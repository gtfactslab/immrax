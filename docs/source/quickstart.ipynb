{
 "cells": [
  {
   "cell_type": "markdown",
   "metadata": {},
   "source": [
    "# Installation and Quickstart\n",
    "\n",
    "## JAX\n",
    "For a quick, CPU only install,\n",
    "```\n",
    "pip install --upgrade jax[cpu]\n",
    "```\n",
    "For a GPU install, follow instructions from [https://jax.readthedocs.io/en/latest/installation.html](https://jax.readthedocs.io/en/latest/installation.html). \n",
    "For a local CUDA installation, this link may be helpful [https://gist.github.com/denguir/b21aa66ae7fb1089655dd9de8351a202](https://gist.github.com/denguir/b21aa66ae7fb1089655dd9de8351a202).\n",
    "\n",
    "## Install `immrax`\n",
    "\n",
    "For now, `immrax` can be installed by directly cloning the repository. We plan to upload the latest stable version to PyPi.\n",
    "```\n",
    "git clone <url>\n",
    "pip install .\n",
    "```\n"
   ]
  }
 ],
 "metadata": {
  "language_info": {
   "name": "python"
  }
 },
 "nbformat": 4,
 "nbformat_minor": 2
}
