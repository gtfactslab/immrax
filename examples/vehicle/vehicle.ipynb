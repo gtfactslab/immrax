{
 "cells": [
  {
   "cell_type": "markdown",
   "metadata": {},
   "source": [
    "# Efficient Reachability on a Neural Network Controlled Vehicle Using GPU Parallelization\n",
    "<!-- In this example, we exploit the power of parallization on a GPU to efficiently compute accurate reachable sets of a nonlinear vehicle.\n",
    "\n",
    "This example is from .... -->\n",
    "In this example, we compute the reachable set of a vehicle model using the interaction-aware first-order inclusion function from [previous work](https://arxiv.org/pdf/2307.14938.pdf). Our goal is to implement the framework in an efficient and parallelizable manner.\n",
    "\n",
    "## Preliminaries\n",
    "\n",
    "If JAX was configured correctly with a GPU, then the `device = 'gpu'` flag will correctly dispatch the parallelized computations to the GPU. To run the code on the CPU, change the flag to `device = 'cpu'`. Additionally, to try the Tsit5 algorithm, change the `method` flag to `method = 'tsit5'`."
   ]
  },
  {
   "cell_type": "code",
   "execution_count": 1,
   "metadata": {},
   "outputs": [
    {
     "ename": "ModuleNotFoundError",
     "evalue": "No module named '_vendor'",
     "output_type": "error",
     "traceback": [
      "\u001b[31m---------------------------------------------------------------------------\u001b[39m",
      "\u001b[31mModuleNotFoundError\u001b[39m                       Traceback (most recent call last)",
      "\u001b[36mCell\u001b[39m\u001b[36m \u001b[39m\u001b[32mIn[1]\u001b[39m\u001b[32m, line 3\u001b[39m\n\u001b[32m      1\u001b[39m \u001b[38;5;28;01mimport\u001b[39;00m\u001b[38;5;250m \u001b[39m\u001b[34;01mjax\u001b[39;00m\n\u001b[32m      2\u001b[39m \u001b[38;5;28;01mimport\u001b[39;00m\u001b[38;5;250m \u001b[39m\u001b[34;01mjax\u001b[39;00m\u001b[34;01m.\u001b[39;00m\u001b[34;01mnumpy\u001b[39;00m\u001b[38;5;250m \u001b[39m\u001b[38;5;28;01mas\u001b[39;00m\u001b[38;5;250m \u001b[39m\u001b[34;01mjnp\u001b[39;00m\n\u001b[32m----> \u001b[39m\u001b[32m3\u001b[39m \u001b[38;5;28;01mimport\u001b[39;00m\u001b[38;5;250m \u001b[39m\u001b[34;01mimmrax\u001b[39;00m\u001b[38;5;250m \u001b[39m\u001b[38;5;28;01mas\u001b[39;00m\u001b[38;5;250m \u001b[39m\u001b[34;01mirx\u001b[39;00m\n\u001b[32m      5\u001b[39m device = \u001b[33m\"\u001b[39m\u001b[33mgpu\u001b[39m\u001b[33m\"\u001b[39m\n\u001b[32m      6\u001b[39m method = \u001b[33m\"\u001b[39m\u001b[33meuler\u001b[39m\u001b[33m\"\u001b[39m\n",
      "\u001b[36mFile \u001b[39m\u001b[32m~/dev/research/reachability-contraction/immrax/immrax/__init__.py:10\u001b[39m\n\u001b[32m      7\u001b[39m \u001b[38;5;28;01mfrom\u001b[39;00m\u001b[38;5;250m \u001b[39m\u001b[34;01m.\u001b[39;00m\u001b[38;5;250m \u001b[39m\u001b[38;5;28;01mimport\u001b[39;00m control \u001b[38;5;28;01mas\u001b[39;00m control\n\u001b[32m      8\u001b[39m \u001b[38;5;28;01mfrom\u001b[39;00m\u001b[38;5;250m \u001b[39m\u001b[34;01m.\u001b[39;00m\u001b[34;01mcontrol\u001b[39;00m\u001b[38;5;250m \u001b[39m\u001b[38;5;28;01mimport\u001b[39;00m *\n\u001b[32m---> \u001b[39m\u001b[32m10\u001b[39m \u001b[38;5;28;01mimport\u001b[39;00m\u001b[38;5;250m \u001b[39m\u001b[34;01m_vendor\u001b[39;00m\u001b[34;01m.\u001b[39;00m\u001b[34;01mjax_verify\u001b[39;00m\u001b[34;01m.\u001b[39;00m\u001b[34;01mjax_verify\u001b[39;00m\n\u001b[32m     11\u001b[39m \u001b[38;5;28;01mfrom\u001b[39;00m\u001b[38;5;250m \u001b[39m\u001b[34;01m.\u001b[39;00m\u001b[38;5;250m \u001b[39m\u001b[38;5;28;01mimport\u001b[39;00m neural \u001b[38;5;28;01mas\u001b[39;00m neural\n\u001b[32m     12\u001b[39m \u001b[38;5;28;01mfrom\u001b[39;00m\u001b[38;5;250m \u001b[39m\u001b[34;01m.\u001b[39;00m\u001b[34;01mneural\u001b[39;00m\u001b[38;5;250m \u001b[39m\u001b[38;5;28;01mimport\u001b[39;00m *\n",
      "\u001b[31mModuleNotFoundError\u001b[39m: No module named '_vendor'"
     ]
    }
   ],
   "source": [
    "import jax\n",
    "import jax.numpy as jnp\n",
    "import immrax as irx\n",
    "\n",
    "device = \"gpu\"\n",
    "method = \"euler\""
   ]
  },
  {
   "cell_type": "markdown",
   "metadata": {},
   "source": [
    "## The vehicle's dynamics\n",
    "Consider the nonlinear dynamics of a vehicle modeled as a kinematic bicycle\n",
    "\n",
    "$$\n",
    "\\begin{aligned}\n",
    "     \\dot{p}_x &= v \\cos(\\phi + \\beta(u_2)) \\\\ \n",
    "     \\dot{\\phi} &=\\frac{v}{\\ell_r}\\sin(\\beta(u_2)) \\\\\n",
    "     \\dot{p}_y &= v \\sin(\\phi + \\beta(u_2)) \\\\ \n",
    "     \\dot{v} &= u_1\n",
    "\\end{aligned}\n",
    "$$\n",
    "\n",
    "where $(p_x,p_y)\\in \\mathbb{R}^2$ is the displacement of the center of mass in the $x$-$y$ plane, $\\phi \\in [-\\pi,\\pi)$ is the heading angle in the plane, and $v\\in \\mathbb{R}_{\\geq 0}$ is the speed of the center of mass. Denote the state $x := [p_x,p_y,\\phi,v]$, and the open-loop vector field $\\dot{x} = f(x,u,w)$.\n",
    "\n",
    "We implement this in `immrax` as an `OpenLoopSystem` as follows."
   ]
  },
  {
   "cell_type": "code",
   "execution_count": null,
   "metadata": {},
   "outputs": [],
   "source": [
    "class Vehicle(irx.OpenLoopSystem):\n",
    "    def __init__(self) -> None:\n",
    "        self.evolution = \"continuous\"\n",
    "        self.xlen = 4\n",
    "\n",
    "    def f(\n",
    "        self, t: jnp.ndarray, x: jnp.ndarray, u: jnp.ndarray, w: jnp.ndarray\n",
    "    ) -> jnp.ndarray:\n",
    "        px, py, psi, v = x.ravel()\n",
    "        u1, u2 = u.ravel()\n",
    "        beta = jnp.arctan(jnp.tan(u2) / 2)\n",
    "        return jnp.array(\n",
    "            [v * jnp.cos(psi + beta), v * jnp.sin(psi + beta), v * jnp.sin(beta), u1]\n",
    "        )\n",
    "\n",
    "\n",
    "olsys = Vehicle()"
   ]
  },
  {
   "cell_type": "markdown",
   "metadata": {},
   "source": [
    "## The neural network controller\n",
    "\n",
    "We consider a full state feedback continuous control policy $\\pi$ defined by a $4\\times100\\times100\\times2$ neural network. The neural network was trained using imitation learning to mimic an MPC controller trained to stabilize the vehicle to the origin while avoiding an obstacle centered at $(4,4)$. The closed-loop system is\n",
    "\n",
    "$$\n",
    "\\begin{align} \n",
    "    \\dot{x} = f(x,\\pi(x),w) = f^\\pi(x,w).\n",
    "\\end{align}\n",
    "$$\n",
    "\n",
    "The neural network is implemented in the `NeuralNetwork` class, which uses `equinox` to construct a fully-connected neural network controller. The `NNCSystem` class transforms the open-loop system `olsys` ($f$) into the closed loop system `clsys` ($f^\\pi$) obtained by continuous composition of the neural network with the system."
   ]
  },
  {
   "cell_type": "code",
   "execution_count": null,
   "metadata": {},
   "outputs": [],
   "source": [
    "net = irx.NeuralNetwork(\"100r100r2\")\n",
    "clsys = irx.NNCSystem(olsys, net)"
   ]
  },
  {
   "cell_type": "markdown",
   "metadata": {},
   "source": [
    "## The closed-loop embedding system\n",
    "<!-- Embedding System Induced by the Mixed-Cornered Jacobian-based Inclusion Function -->\n",
    "\n",
    "We use the mixed-cornered closed-loop inclusion function from our [previous work](https://arxiv.org/pdf/2307.14938.pdf), which uses a special case (choosing $\\mathring{x}$ as a corner of the hyperrectangle $[\\underline{x},\\overline{x}]$) of Proposition 7 Part 1 combined with the linear bounds from [CROWN](https://arxiv.org/pdf/1811.00866.pdf).\n",
    "We present here the closed-form for the lower corner, but a similar construction exists for any other corner. Using the notation $(A^+)_{ij} = \\max\\{A_{ij},0\\}$, $A^- = A - A^+$, for any matrix $A$,\n",
    "\n",
    "$$\n",
    "\\begin{gather} \n",
    "\\begin{gathered}\n",
    "    \\textsf{F}^\\pi(\\underline{x},\\overline{x},\\underline{w},\\overline{w}) = \\bigg[\\begin{smallmatrix}\n",
    "        \\underline{H}^+ - \\underline{\\textsf{M}}_x & \\underline{H}^- \\\\\n",
    "        \\overline{H}^- - \\overline{\\textsf{M}}_x & \\overline{H}^+ \\\\\n",
    "    \\end{smallmatrix}\\bigg] \\left[\\begin{smallmatrix} \\underline{x} \\\\ \\overline{x} \\end{smallmatrix}\\right] +\n",
    "    \\left[\\begin{smallmatrix}\n",
    "        -\\underline{\\textsf{M}}_w^- & \\underline{\\textsf{M}}_w^- \\\\\n",
    "        -\\overline{\\textsf{M}}_w^+ & \\overline{\\textsf{M}}_w^+        \n",
    "    \\end{smallmatrix}\\right] \\left[ \\begin{smallmatrix}\\underline{w} \\\\ \\overline{w}\\end{smallmatrix} \\right]\n",
    "     + \\left[\\begin{smallmatrix}-\\underline{\\textsf{M}}_u\\underline{u} + \\underline{\\textsf{M}}_u^+\\underline{d} + \\underline{\\textsf{M}}_u^-\\overline{d} + f(x,u,w) \\\\ -\\overline{\\textsf{M}}_u\\underline{u} + \\overline{\\textsf{M}}_u^+\\overline{d} + \\overline{\\textsf{M}}_u^-\\underline{d} + f(x,u,w)\\end{smallmatrix}\\right], \\\\\n",
    "    \\underline{H} = \\underline{\\textsf{M}}_x + \\underline{\\textsf{M}}_u^+ \\underline{C} + \\underline{\\textsf{M}}_u^- \\overline{C}, \\ \\overline{H} = \\overline{\\textsf{M}}_x + \\overline{\\textsf{M}}_u^+ \\overline{C} + \\overline{\\textsf{M}}_u^- \\underline{C}, \\\\\n",
    "\\end{gathered}\n",
    "\\end{gather}\n",
    "$$\n",
    "\n",
    "where $(\\underline{C},\\overline{C},\\underline{d},\\overline{d})$ is the output of CROWN on the interval $[\\underline{x},\\overline{x}]$, $\\left[\\begin{smallmatrix} \\underline{u} \\\\ \\overline{u}\\end{smallmatrix}\\right] := \\left[\\begin{smallmatrix}\n",
    "    \\underline{C}^+ & \\underline{C}^- \\\\\n",
    "    \\overline{C}^- & \\overline{C}^+\n",
    "\\end{smallmatrix}\\right]\\left[\\begin{smallmatrix} \\underline{x} \\\\ \\overline{x} \\end{smallmatrix}\\right] + \\left[\\begin{smallmatrix} \\underline{d} \\\\ \\overline{d} \\end{smallmatrix}\\right]$, \n",
    "$[\\textsf{M}_x\\ \\textsf{M}_u\\ \\textsf{M}_w] := [\\textsf{M}_\\sigma^{(\\underline{x},\\underline{u},\\underline{w})}(\\underline{x},\\overline{x},\\underline{u},\\overline{u},\\underline{w},\\overline{w})]$, where $\\textsf{M}$ is defined as Proposition 7 for the map $\\hat{f} : \\mathbb{R}^{n+p+q} \\to \\mathbb{R}^n$ such that $\\hat{f}((x,u,w)) := f(x,u,w)$, for some $(n+p+q)$-permutation $\\mathcal{O}$. \n",
    "<!-- \\cite{SJ-AH-SC:23c} prove that this is indeed a valid inclusion function for the closed-loop system~\\eqref{eq:vehicleclsys}. -->\n",
    "\n",
    "We use the `NNCEmbeddingSystem` class, which implements this inclusion function with the `'crown'` flag. The `'local'` flags specify to perform the neural network verification step and constructing the $\\textsf{M}$ matrices separately for each face of the hyperrectangle when computing the embedding system. We also choose the standard permutation $\\sigma = (1,2,\\dots,8)$ and the bottom and top corners."
   ]
  },
  {
   "cell_type": "code",
   "execution_count": null,
   "metadata": {},
   "outputs": [],
   "source": [
    "clembsys = irx.NNCEmbeddingSystem(clsys, \"crown\", \"local\", \"local\")\n",
    "permutations = irx.standard_permutation(1 + 4 + 2 + 1)\n",
    "corners = irx.two_corners(1 + 4 + 2 + 1)"
   ]
  },
  {
   "cell_type": "markdown",
   "metadata": {},
   "source": [
    "## Interval reachability using the embedding system"
   ]
  },
  {
   "cell_type": "markdown",
   "metadata": {},
   "source": [
    "We know that a single trajectory of the embedding system provides interval bounds for the reachable set of the original closed-loop system. Thus, we hope to calculate the reachable set of the vehicle model given an uncertain initial set.\n",
    "\n",
    "First, we create `Interval`s for the inital set and disturbance (we use zero disturbace for this example). Here we use `icentpert`, which creates an interval from a center and a $\\pm$ perturbation from the center."
   ]
  },
  {
   "cell_type": "code",
   "execution_count": null,
   "metadata": {},
   "outputs": [],
   "source": [
    "# Returns [7.95,8.05] x [6.95,7.05] x [-2pi/3 - 0.01, -2pi/3 + 0.01] x [1.99, 2.01]\n",
    "x0 = irx.icentpert([8, 7, -2 * jnp.pi / 3, 2], [0.05, 0.05, 0.01, 0.01])\n",
    "w = irx.icentpert([0.0], 0.0)"
   ]
  },
  {
   "cell_type": "markdown",
   "metadata": {},
   "source": [
    "Next, we create the following `compute_and_plot` function, which will compute the reachable set for a given number of partitions `N`, using the specified `solver` (`'euler'` or `'tsit5'`), on the specified `device` (`'cpu'` or `'gpu'`).\n",
    "\n",
    "To do this, we first we create a function `compute_traj` which computes the trajectory of the embedding system given an initial condition $x_0\\in\\mathcal{T}^{2n}_{\\geq 0}$, where the initial condition is equivalent to an interval, with the lower bound and upper bound concatenated to make a vector in $2n$-dimensions. This uses the `System.compute_trajectory` method, which internally calls `diffrax`.\n",
    "\n",
    "Next, we partition the initial set. To do this, we first transform `x0` to the upper triangle using `i2ut`, then pass that into the `get_partitions_ut` function from `immrax.utils` to partition `x0` into approximately `N` uniform regions (in particular, $\\operatorname{floor}(\\exp(\\log(N)/n))^n$ regions). This returns a `jax.Array` of shape `(N,2n)`, *i.e.*, `N` different initial conditions each on the upper triangle $\\mathcal{T}^{2n}_{\\geq 0}$. Each initial condition on the upper traingle corresponds directly with an interval subset of the initial set.\n",
    "\n",
    "To efficiently parallelize the computations of each partition, we use the `jax.vmap` transform to turn `compute_traj` into a vectorized map over different initial conditions, as well as pass the resulting function through a `jax.jit` on the specified `device`, or `backend`. Then, we JIT compile the resulting function `vmapped` using a dummy array.\n",
    "\n",
    "Finally, we use the `run_times` function from `immrax.utils` to average the runtime over $10$ runs. The rest of the function is dedicated to plotting the results onto the axis."
   ]
  },
  {
   "cell_type": "code",
   "execution_count": null,
   "metadata": {},
   "outputs": [],
   "source": [
    "import matplotlib.pyplot as plt\n",
    "from matplotlib.patches import Circle\n",
    "from immrax.utils import get_partitions_ut, run_times, draw_iarrays, gen_ics\n",
    "from immutabledict import immutabledict\n",
    "\n",
    "\n",
    "def compute_and_plot(ax, N, solver, device):\n",
    "    # Computing the Reachable Set of the Closed-Loop Embedding System\n",
    "    def w_map(t, x):\n",
    "        return w\n",
    "\n",
    "    def compute_traj(x0, t_end):\n",
    "        # The embedding system trajectory gives an overapproximation of the reachable set\n",
    "        return clembsys.compute_trajectory(\n",
    "            0.0,\n",
    "            t_end,\n",
    "            x0,\n",
    "            (w_map,),\n",
    "            0.125,\n",
    "            f_kwargs=immutabledict({\"corners\": corners, \"permutations\": permutations}),\n",
    "            solver=solver,\n",
    "        )\n",
    "\n",
    "    t_end = 1.5\n",
    "\n",
    "    x0s = get_partitions_ut(irx.i2ut(x0), N)\n",
    "    print(f\"Using {len(x0s)} partitions\")\n",
    "\n",
    "    # vmap the compute_traj function over the initial partitions\n",
    "    vmapped = jax.jit(jax.vmap(compute_traj, (0, None)), backend=device)\n",
    "    vmapped(jnp.zeros_like(x0s), 0.125)  # JIT Compilation Step\n",
    "\n",
    "    print(\"Finished setup and compilation.\")\n",
    "\n",
    "    # Runs vmapped on x0s 10 times, reporting the runtimes\n",
    "    trajs, times = run_times(10, vmapped, x0s, t_end)\n",
    "    avg_runtime, std_runtime = jnp.mean(times), jnp.std(times)\n",
    "    print(f\"partitions: ${len(x0s)}$, {solver}, {avg_runtime} ± {std_runtime}\")\n",
    "\n",
    "    # diffrax has some timesteps that are inf, so we need to filter them out\n",
    "    tfinite = jnp.where(jnp.isfinite(trajs.ts[0]))[0]\n",
    "    for t in tfinite:\n",
    "        if jnp.isfinite(trajs.ys[:, t, :]).all():\n",
    "            ut_t = trajs.ys[:, t, :]  # The reachable sets at time t\n",
    "            boxes_t = [irx.ut2i(box) for box in ut_t]  # Converted to intervals\n",
    "            draw_iarrays(ax, boxes_t, zorder=2)  # Draw the intervals on ax\n",
    "\n",
    "    # Monte Carlo Simulations\n",
    "    def mc_wmap(t, x):\n",
    "        return jnp.array([0.0])\n",
    "\n",
    "    for mc_x0 in gen_ics(x0, 100):\n",
    "        mc_traj = clsys.compute_trajectory(\n",
    "            0.0, t_end, mc_x0, (mc_wmap,), 0.125, solver=solver\n",
    "        )\n",
    "        ax.plot(mc_traj.ys[:, 0], mc_traj.ys[:, 1], color=\"tab:red\", zorder=0)\n",
    "\n",
    "    # Obstacle\n",
    "    ax.add_patch(Circle((4, 4), 3 / 1.25, lw=0, fc=\"salmon\", zorder=0))\n",
    "\n",
    "    ax.set_xlim([-0.5, 8.5])\n",
    "    ax.set_ylim([-0.5, 8.5])\n",
    "    ax.set_xlabel(\"$p_x$\", labelpad=3)\n",
    "    ax.set_ylabel(\"$p_y$\", labelpad=3, rotation=\"horizontal\")\n",
    "    ax.text(\n",
    "        0,\n",
    "        8,\n",
    "        f\"partitions: ${len(x0s)}$, {solver}\",\n",
    "        fontsize=16,\n",
    "        verticalalignment=\"top\",\n",
    "    )"
   ]
  },
  {
   "cell_type": "code",
   "execution_count": null,
   "metadata": {},
   "outputs": [],
   "source": [
    "plt.rcParams.update({\"text.usetex\": True, \"font.family\": \"Helvetica\", \"font.size\": 14})\n",
    "fig, axs = plt.subplots(2, 3, dpi=100, figsize=[10, 7])\n",
    "fig.subplots_adjust(\n",
    "    left=0.05, right=0.975, bottom=0.075, top=0.975, wspace=0.15, hspace=0.25\n",
    ")\n",
    "axs = axs.reshape(-1)\n",
    "\n",
    "for i, N in enumerate(\n",
    "    [\n",
    "        (1, method, device),\n",
    "        (2**4, method, device),\n",
    "        (3**4, method, device),\n",
    "        (4**4, method, device),\n",
    "        (5**4, method, device),\n",
    "        (6**4, method, device),\n",
    "    ]\n",
    "):\n",
    "    compute_and_plot(axs[i], *N)\n",
    "\n",
    "fig.savefig(\"vehicle.pdf\")\n",
    "plt.show()"
   ]
  }
 ],
 "metadata": {
  "kernelspec": {
   "display_name": "immrax_clean",
   "language": "python",
   "name": "python3"
  },
  "language_info": {
   "codemirror_mode": {
    "name": "ipython",
    "version": 3
   },
   "file_extension": ".py",
   "mimetype": "text/x-python",
   "name": "python",
   "nbconvert_exporter": "python",
   "pygments_lexer": "ipython3",
   "version": "3.11.0"
  }
 },
 "nbformat": 4,
 "nbformat_minor": 2
}
