{
 "cells": [
  {
   "cell_type": "markdown",
   "metadata": {},
   "source": [
    "(Pendulum)=\n",
    "# Robust Optimal Control on a Pendulum Using Automatic Differentiation\n",
    "\n",
    "In this example, we use Automatic Differentiation to solve a robust optimal control problem in the embedding space of a nonlinear pendulum. In particular, we build an objective function with robust constraints, automatically create and compile functions evaluating their gradients, Jacobians, and Hessians, and finally setup an interior point minimization problem to find a locally optimal solution using IPOPT.\n",
    "\n",
    "This example is from the paper \"$\\texttt{immrax}$: A Parallalizable and Differentiable Toolbox for Interval Analysis and Mixed Monotone Reachability in JAX\"."
   ]
  },
  {
   "cell_type": "markdown",
   "metadata": {},
   "source": [
    "## Preliminaries\n",
    "\n",
    "To run this example, you'll need `cyipopt` and the MA57 linear solver from HSL. See the [Installation](Installation) page for more information on how to install these."
   ]
  },
  {
   "cell_type": "code",
   "execution_count": 1,
   "metadata": {},
   "outputs": [],
   "source": [
    "import jax\n",
    "import jax.numpy as jnp\n",
    "import immrax as irx\n",
    "from typing import Tuple"
   ]
  },
  {
   "cell_type": "markdown",
   "metadata": {},
   "source": [
    "We will be using IPOPT to solve a minimization problem. Since IPOPT is CPU-based and 64-bit, we configure JAX with these options as well. We can use the GPU here instead of the CPU for some operations, but empirically, the time to transfer data between the CPU and GPU is much larger than the amount of time the problem takes on the CPU only."
   ]
  },
  {
   "cell_type": "code",
   "execution_count": 2,
   "metadata": {},
   "outputs": [],
   "source": [
    "# Some configurations\n",
    "jax.config.update(\"jax_enable_x64\", True)\n",
    "\n",
    "# We wrap the jax.jit function to set the backend to cpu by default for convenience.\n",
    "device = 'cpu'\n",
    "def jit (*args, **kwargs):\n",
    "    kwargs.setdefault('backend', device)\n",
    "    return jax.jit(*args, **kwargs)"
   ]
  },
  {
   "cell_type": "markdown",
   "metadata": {},
   "source": [
    "### The pendulum's dynamics\n",
    "Consider the dynamics of a forced, damped pendulum\n",
    "\n",
    "$$\n",
    "ml^2\\ddot{\\theta} + b\\dot{\\theta} + mgl\\sin(\\theta) = \\tau\n",
    "$$\n",
    "\n",
    "with $m=0.15\\mathrm{kg}$, $l=0.5\\mathrm{m}$, $b=0.1\\mathrm{N\\cdot m \\cdot s}$, and $g=9.81\\mathrm{m}/\\mathrm{s}^2$.\n",
    "The torque $\\tau := (1 + w)u$, where $u\\in\\mathbb{R}$ is the desired torque input and $w\\in[\\underline{w},\\overline{w}] := [-0.02,0.02]$ is a bounded multiplicative disturbance on the control input. We implement this as a $2$-state system with $x := (\\theta, \\dot{\\theta})$,\n",
    "\n",
    "$$\n",
    "\\dot{x} = \n",
    "     f(x,u,w) = \n",
    "     \\left[\\begin{matrix} x_2 \\\\ \\frac{(1 + w)u - bx_2}{ml^2} - \\frac{g}{l}\\sin x_1 \\end{matrix}\\right]\n",
    "$$\n",
    "\n",
    "This is implemented in `immrax` as a `System`, with the specified dynamics written using `jax.numpy`."
   ]
  },
  {
   "cell_type": "code",
   "execution_count": 3,
   "metadata": {},
   "outputs": [],
   "source": [
    "g = 9.81\n",
    "\n",
    "class Pendulum (irx.System) :\n",
    "    m:float\n",
    "    l:float\n",
    "    b:float\n",
    "\n",
    "    def __init__(self, m:float = 0.15, l:float = 0.5, b:float = 0.1) -> None:\n",
    "        super().__init__()\n",
    "        # Tells immrax that the system is continuous\n",
    "        self.evolution = 'continuous'\n",
    "        # Tells immrax the number of states\n",
    "        self.xlen = 2\n",
    "        self.m = m\n",
    "        self.l = l\n",
    "        self.b = b\n",
    "\n",
    "    def f(self, t: float, x: jax.Array, u: jax.Array, w: jax.Array) -> jax.Array:\n",
    "        return jnp.array([\n",
    "            x[1],\n",
    "            (((1 + w[0])*u[0] - self.b*x[1]) / \n",
    "                ((self.m) * self.l**2)) - (g/self.l)*jnp.sin(x[0])\n",
    "        ])\n",
    "    \n",
    "sys = Pendulum()"
   ]
  },
  {
   "cell_type": "markdown",
   "metadata": {},
   "source": [
    "### Problem Statement\n",
    "We seek to find a finite-time closed-loop optimal control policy $\\pi:[0,T]\\times\\mathbb{R}^n\\to\\mathbb{R}$ to swing up the pendulum to an *a priori* safe region at the top.\n",
    "We consider linear feedback control policies of the form $\\pi(t,x) := K(x(t) - x_{\\mathrm{nom}}(t)) + u_{\\mathrm{ff}}(t)$, where $K$ is a time invariant linear closed-loop stabilizing term to help counter the disturbance, $u_{\\mathrm{ff}}:[0,T]\\to\\mathbb{R}$ is a feedforward control policy, and $x_\\mathrm{nom}:[0,T]\\to\\mathbb{R}^n$ is the nominal trajectory of the deterministic system under the feedforward control law $u_\\mathrm{ff}$ with known disturbance mapping $w_{\\mathrm{nom}}:[0,T]\\to\\mathbb{R}$.\n",
    "The closed-loop system is thus\n",
    "\n",
    "$$ \n",
    "    \\dot{x} = f(x,\\pi(t,x),w) = f^\\pi (t, x, w).\n",
    "$$\n"
   ]
  },
  {
   "cell_type": "markdown",
   "metadata": {},
   "source": [
    "## Embedding System for the Pendulum\n",
    "Consider the following function\n",
    "\n",
    "$$\n",
    "\\begin{align*}\n",
    "[\\textsf{F}^\\pi(t,\\underline{x},\\overline{x},\\underline{w},\\overline{w})] := &\\, ([\\textsf{M}_x] + [\\textsf{M}_u]K)([\\underline{x},\\overline{x}] - x_\\mathrm{nom}(t)) \\\\\n",
    "    % &+ [\\textsf{M}_u^\\mathcal{O}]([\\ulu,\\olu] - \\mathring{u}) \n",
    "    & + [\\textsf{M}_w]([\\underline{w},\\overline{w}] - w_\\mathrm{nom}(t)) \\\\\n",
    "    & + f(x_\\mathrm{nom}(t),u_{\\mathrm{ff}}(t),w_\\mathrm{nom}(t)),\n",
    "\\end{align*}\n",
    "$$\n",
    "\n",
    "with $[\\textsf{M}_x\\ \\textsf{M}_u\\ \\textsf{M}_w] := [\\textsf{M}_\\mathcal{O}^{\\xi_\\mathrm{nom}(t)}(\\underline{x},\\overline{x},u_\\mathrm{ff}(t),u_\\mathrm{ff}(t),\\underline{w},\\overline{w})]$, where $\\textsf{M}$ is defined as Proposition~\\ref{prop:MixedJacobian-Based} afor the map $\\hat{f} : \\mathbb{R}^{n+p+q} \\to \\mathbb{R}^n$ such that $\\hat{f}((x,u,w)) := f(x,u,w)$, for some $(n+p+q)$-ordering $\\mathcal{O}$, and $\\xi_\\mathrm{nom}(t) := (x_\\mathrm{nom}(t),u_\\mathrm{ff}(t),w_\\mathrm{nom}(t))$.\n",
    "This is a valid inclusion function for the closed-loop dynamics $f^\\pi$~\\eqref{eq:pendulumcldyn} (proof deferred to Appendix~\\ref{apax:sec:proofclpend}, which uses Proposition~\\ref{prop:MixedJacobian-Based} Part~\\eqref{prop:MixedJacobian-Based:p1}).\n",
    "\n",
    "We use the `mjacM` transform to implement the inclusion function in in `immrax`. We expect the nominal values to be given as an input to the inclusion function, which will be calculated externally."
   ]
  },
  {
   "cell_type": "code",
   "execution_count": 4,
   "metadata": {},
   "outputs": [],
   "source": [
    "sys_mjacM = irx.mjacM(sys.f)\n",
    "\n",
    "@jit\n",
    "def F (t:irx.Interval, x:irx.Interval, w:irx.Interval, K:jnp.ndarray, \n",
    "       nominal:Tuple[jnp.ndarray, jnp.ndarray, jnp.ndarray, jnp.ndarray]) :\n",
    "    tc, xc, uc, wc = nominal\n",
    "    Mt, Mx, Mu, Mw = sys_mjacM(t, x, irx.interval(uc), w, centers=(nominal,))[0]\n",
    "    return (\n",
    "        (Mx + Mu @ irx.interval(K)) @ (x - xc)\n",
    "        + Mw @ (w - wc) + sys.f(tc, xc, uc, wc)\n",
    "    )"
   ]
  },
  {
   "cell_type": "markdown",
   "metadata": {},
   "source": [
    "Following the treatment from the paper, now that we have an inclusion function for the dynamics of the system, we will embed the closed-loop pendulum dynamics into a new $2n$-dimensional embedding system that provides efficient bounds for its reachable set.\n",
    "\n",
    "$$\n",
    "\\dot{\\underline{x}}_i = \\underline{\\textsf{E}}_i(t,\\underline{x},\\overline{x},\\underline{w},\\overline{w}) := \\underline{\\textsf{F}}_i^\\pi(t,\\underline{x},\\overline{x}_{i:\\underline{x}},\\underline{w},\\overline{x}), \\\\\n",
    "\\dot{\\overline{x}}_i = \\overline{\\textsf{E}}_i(t,\\underline{x},\\overline{x},\\underline{w},\\overline{w}) := \\overline{\\textsf{F}}_i^\\pi(t,\\underline{x}_{i:\\overline{x}},\\overline{x},\\underline{w},\\overline{x}),\n",
    "$$\n",
    "\n",
    "This embedding is automatically performed in `immrax` by the `ifemb` transform, which takes a `System` and an inclusion function for its dynamics, and returns the corresponding `EmbeddingSystem`."
   ]
  },
  {
   "cell_type": "code",
   "execution_count": 5,
   "metadata": {},
   "outputs": [],
   "source": [
    "embsys = irx.ifemb(sys, F)"
   ]
  },
  {
   "cell_type": "markdown",
   "metadata": {},
   "source": [
    "## Using Autodiff to Setup an IPOPT Minimization Problem\n",
    "\n",
    "### The problem itself\n",
    "Now that we have the embedding system `embsys`, we will try to solve an optimization problem of the following form:\n",
    "\n",
    "$$\n",
    "\\begin{aligned}\n",
    "    \\min_{u_\\mathrm{ff}, K} &\\sum_{i=1}^N |u_{\\mathrm{ff}}(t_i)|^2 + \\|K\\|_F^2 + \\sum_{i=1}^N \\|\\overline{x}(t_i) - \\underline{x}(t_i)\\|_2^2 \\\\\n",
    "    \\text{s.t.}& \\ \\  \\underline{x}_f \\leq \\underline{x}(t_j),\\ \\ \\overline{x}(t_j) \\leq \\overline{x}_f, \\ \\ j=N_e,\\dots,N, \\ \\\\ \n",
    "    & \\underline{x}(0) = \\overline{x}(0) = (0, 0), \\\\\n",
    "    & \\left[\\begin{matrix} \\underline{x}(t_{i+1}) \\\\ \\overline{x}(t_{i+1}) \\end{matrix}\\right] = \\left[\\begin{matrix} \\underline{x}(t_{i}) \\\\ \\overline{x}(t_{i}) \\end{matrix}\\right] + \\Delta t \\textsf{E}(t_i,\\underline{x}(t_i),\\overline{x}(t_i),\\underline{w},\\overline{w}), \n",
    "\\end{aligned}\n",
    "$$\n",
    "\n",
    "where the embedding dynamics $\\textsf{E}$ are discretized using Euler integration with step size $\\Delta t$.\n",
    "\n",
    "The first and second terms of the objective are typical quadratic conditioning of the decision variables. The third term is a regularization factor intended to help curb the expansion of the gap between the upper and lower bound, which emperically helps the optimization problem converge to a feasible solution.\n",
    "Finally, in the inequality constraints, we require that the pendulum reach a target set $[\\underline{x}_f,\\overline{x}_f]$ and stay within these constraints for $t\\in[t_{N_e},t_N]$."
   ]
  },
  {
   "cell_type": "markdown",
   "metadata": {},
   "source": [
    "### Towards an IPOPT implementation\n",
    "\n",
    "In the following code, we define variables setting up the minimization problem with the following definitions:\n",
    "\n",
    "$$\n",
    "t_0 = 0,\\quad t_{N_e} = 3,\\quad t_N = 3.25,\\quad \\Delta t = 0.05, \\\\\n",
    "[\\underline{x}_f,\\overline{x}_f] = \\left[\\begin{bmatrix} \\pi - \\frac{10\\pi}{360} \\\\ -0.1 \\end{bmatrix} , \\begin{bmatrix} \\pi + \\frac{10\\pi}{360} \\\\ +0.1 \\end{bmatrix}\\right]\n",
    "$$\n"
   ]
  },
  {
   "cell_type": "code",
   "execution_count": 6,
   "metadata": {},
   "outputs": [],
   "source": [
    "# Problem Parameters\n",
    "\n",
    "# Time horizon and discretization\n",
    "t0, te, tf, dt = 0, 3., 3.25, 0.05\n",
    "Ne = round((te - t0)/dt) \n",
    "N = round((tf - t0)/dt) + 1\n",
    "tt = jnp.arange(t0, tf + dt, dt)\n",
    "\n",
    "# Initial condition (no initial perturbation)\n",
    "x0 = irx.interval(jnp.array([0.,0.]))\n",
    "x0ut = irx.i2ut(x0); x0cent, x0pert = irx.i2centpert(x0)\n",
    "\n",
    "# Final set constraint\n",
    "xf = irx.icentpert(jnp.array([jnp.pi,0.]), jnp.array([10.*(jnp.pi/360),0.1]))\n",
    "xfl, xfu = irx.i2lu(xf); xfut = irx.i2ut(xf); xfcent, xfpert = irx.i2centpert(xf)\n",
    "\n",
    "# Disturbance bounds [-0.02, 0.02]\n",
    "w = irx.icentpert(0., 0.02)"
   ]
  },
  {
   "cell_type": "markdown",
   "metadata": {},
   "source": [
    "We put all decision variables into one vector."
   ]
  },
  {
   "cell_type": "code",
   "execution_count": 7,
   "metadata": {},
   "outputs": [],
   "source": [
    "# Initial guess for control u_ff (zeros) and linear matrix K ([-1 -1])\n",
    "K = jnp.array([[-1.,-1.]])\n",
    "u0 = jnp.concatenate((jnp.zeros(N), K.reshape(-1)))\n",
    "\n",
    "# Function to split decision vector into u_ff and K\n",
    "def split_u (u:jax.Array) -> Tuple[jax.Array, jax.Array]:\n",
    "    return u[:-2], u[-2:].reshape(1,2)"
   ]
  },
  {
   "cell_type": "markdown",
   "metadata": {},
   "source": [
    "Next, we implement a couple of helper functions. They use `jax.lax.scan` to perform a simple and efficient Euler integration of the dynamics to the specified time horizon. We could use the `System.compute_trajectory` function instead, which uses `diffrax` to integrate the dynamics with many different options of integrators."
   ]
  },
  {
   "cell_type": "code",
   "execution_count": 8,
   "metadata": {},
   "outputs": [],
   "source": [
    "# Function to rollout the undisturbed pendulum dynamics using Euler integration\n",
    "@jit\n",
    "def rollout_ol_sys_undisturbed (u:jax.Array) -> jax.Array :\n",
    "    u, K = split_u(u)\n",
    "    def f_euler (xt, ut) :\n",
    "        xtp1 = xt + dt*sys.f(0., xt, jnp.array([ut]), jnp.array([0.]))\n",
    "        return (xtp1, xtp1)\n",
    "    _, x = jax.lax.scan(f_euler, x0cent, u)\n",
    "    return x\n",
    "\n",
    "# Function to rollout the closed-loop embedding system dynamics using Euler integration\n",
    "@jit\n",
    "def rollout_cl_embsys (u:jax.Array) -> jax.Array :\n",
    "    u, K = split_u(u)\n",
    "    def f_euler (xt, ut) :\n",
    "        xtut, xnomt = xt\n",
    "        xtutp1 = xtut + dt*embsys.E(irx.interval([0.]), xtut, w, K, \n",
    "                        (jnp.array([0.]), xnomt, jnp.array([ut]), jnp.array([0.])))\n",
    "        xnomtp1 = xnomt + dt*sys.f(0., xnomt, jnp.array([ut]), jnp.array([0.]))\n",
    "        return ((xtutp1,xnomtp1), xtutp1)\n",
    "    _, x = jax.lax.scan(f_euler, (x0ut, x0cent), u)\n",
    "    return x"
   ]
  },
  {
   "cell_type": "markdown",
   "metadata": {},
   "source": [
    "Using the `rollout_cl_embsys` function, we implement the desired objective function above."
   ]
  },
  {
   "cell_type": "code",
   "execution_count": 9,
   "metadata": {},
   "outputs": [],
   "source": [
    "# Objective Function\n",
    "@jit\n",
    "def obj (u:jax.Array) -> jax.Array :\n",
    "    x = rollout_cl_embsys(u)\n",
    "    return jnp.sum(u**2) + jnp.sum((x[:,2:] - x[:,:2])**2)"
   ]
  },
  {
   "cell_type": "markdown",
   "metadata": {},
   "source": [
    "Next, we implement the inequality terminal set constraints as a function $g(x) \\geq 0$."
   ]
  },
  {
   "cell_type": "code",
   "execution_count": 10,
   "metadata": {},
   "outputs": [],
   "source": [
    "# Inequality constraints\n",
    "@jit\n",
    "def con_ineq (u) :\n",
    "    x = rollout_cl_embsys(u)\n",
    "    return jnp.concatenate(((x[Ne:,:2] - xfl).reshape(-1), \n",
    "                            (xfu - x[Ne:,2:]).reshape(-1)))"
   ]
  },
  {
   "cell_type": "markdown",
   "metadata": {},
   "source": [
    "### The Automatic Differentiation Step\n",
    "\n",
    "Next, we use JAX's autodiff transforms to automatically create functions to compute the objective's gradient and Hessian, as well as the Jacobian and Hessian vector product of the constraints with respect to the Lagrange multipliers. We precompile (JIT compile) these functions to separate their compilation from the rest of the stack."
   ]
  },
  {
   "cell_type": "code",
   "execution_count": 11,
   "metadata": {},
   "outputs": [
    {
     "name": "stdout",
     "output_type": "stream",
     "text": [
      "JIT Compiling Autodiff Functions...\n",
      "Finished JIT Compiling Autodiff Functions in 147.91353750228882 seconds\n"
     ]
    }
   ],
   "source": [
    "obj_grad = jit(jax.grad(obj))  # Objective Gradient\n",
    "obj_hess = jit(jax.jacfwd(jax.jacrev(obj)))  # Objective Hessian\n",
    "con_ineq_jac = jit(jax.jacfwd(con_ineq))  # Constraint Jacobian\n",
    "con_ineq_hess = jit(jax.jacfwd(jax.jacrev(con_ineq))) # Constraint Hessian\n",
    "\n",
    "# Constraint Hessian-Vector Product\n",
    "@jit\n",
    "def con_ineq_hessvp (u, v) :\n",
    "    def hessvp (u) :\n",
    "        _, hvp = jax.vjp(con_ineq, u)\n",
    "        return hvp(v)[0] # One tangent, one output. u^T dc_v\n",
    "    return jax.jacrev(hessvp)(u) \n",
    "\n",
    "print('JIT Compiling Autodiff Functions...')\n",
    "from time import time\n",
    "time0 = time()\n",
    "obj_grad(u0)\n",
    "obj_hess(u0)\n",
    "con_ineq_jac(u0)\n",
    "con_ineq_hessvp(u0, jnp.ones(4*(N - Ne)))\n",
    "timef = time()\n",
    "print(f'Finished JIT Compiling Autodiff Functions in {timef - time0} seconds')"
   ]
  },
  {
   "cell_type": "markdown",
   "metadata": {},
   "source": [
    "## Minimization in IPOPT\n",
    "\n",
    "Finally, we solve the optimization problem from above using a call to IPOPT."
   ]
  },
  {
   "cell_type": "code",
   "execution_count": 12,
   "metadata": {},
   "outputs": [
    {
     "name": "stdout",
     "output_type": "stream",
     "text": [
      "\n",
      "******************************************************************************\n",
      "This program contains Ipopt, a library for large-scale nonlinear optimization.\n",
      " Ipopt is released as open source code under the Eclipse Public License (EPL).\n",
      "         For more information visit https://github.com/coin-or/Ipopt\n",
      "******************************************************************************\n",
      "\n",
      "Total number of variables............................:       68\n",
      "                     variables with only lower bounds:        0\n",
      "                variables with lower and upper bounds:        0\n",
      "                     variables with only upper bounds:        0\n",
      "Total number of equality constraints.................:        0\n",
      "Total number of inequality constraints...............:       24\n",
      "        inequality constraints with only lower bounds:       24\n",
      "   inequality constraints with lower and upper bounds:        0\n",
      "        inequality constraints with only upper bounds:        0\n",
      "\n",
      "\n",
      "Number of Iterations....: 100\n",
      "\n",
      "                                   (scaled)                 (unscaled)\n",
      "Objective...............:   1.0647937484146032e+01    1.0647937484146032e+01\n",
      "Dual infeasibility......:   4.2986259200329604e+00    4.2986259200329604e+00\n",
      "Constraint violation....:   1.3959558029932347e-04    1.3959558029932347e-04\n",
      "Variable bound violation:   0.0000000000000000e+00    0.0000000000000000e+00\n",
      "Complementarity.........:   5.2871361388319297e-04    5.2871361388319297e-04\n",
      "Overall NLP error.......:   4.2986259200329604e+00    4.2986259200329604e+00\n",
      "\n",
      "\n",
      "Number of objective function evaluations             = 190\n",
      "Number of objective gradient evaluations             = 101\n",
      "Number of equality constraint evaluations            = 0\n",
      "Number of inequality constraint evaluations          = 194\n",
      "Number of equality constraint Jacobian evaluations   = 0\n",
      "Number of inequality constraint Jacobian evaluations = 102\n",
      "Number of Lagrangian Hessian evaluations             = 100\n",
      "Total seconds in IPOPT                               = 2.603\n",
      "\n",
      "EXIT: Maximum Number of Iterations Exceeded.\n"
     ]
    }
   ],
   "source": [
    "from cyipopt import minimize_ipopt\n",
    "\n",
    "# Constraints\n",
    "cons = [ {'type': 'ineq', 'fun': con_ineq, 'jac': con_ineq_jac, 'hess': con_ineq_hessvp}, ]\n",
    "bnds = [(-100.,100.) for _ in range(u0.size)]\n",
    "\n",
    "ipopt_opts = {\n",
    "    b'disp': 4, \n",
    "    b'linear_solver': 'ma57', \n",
    "    b'hsllib': 'libcoinhsl.so', \n",
    "    b'tol': 1e-3,\n",
    "    b'max_iter': 100,\n",
    "}\n",
    "\n",
    "# Solve the optimization problem\n",
    "res = minimize_ipopt(obj, jac=obj_grad, hess=obj_hess, x0=u0,\n",
    "                     constraints=cons, options=ipopt_opts)"
   ]
  },
  {
   "cell_type": "markdown",
   "metadata": {},
   "source": [
    "## Visualizing the Results"
   ]
  },
  {
   "cell_type": "code",
   "execution_count": 17,
   "metadata": {},
   "outputs": [
    {
     "name": "stdout",
     "output_type": "stream",
     "text": [
      "u_ff = [-0.06233343 -0.0666771  -0.06254942 -0.05261426 -0.0353426  -0.0111303\n",
      " -0.00681361  0.02923769  0.06121546  0.05716339  0.09016525  0.12430726\n",
      "  0.15690694  0.18333536  0.20098078  0.20719559  0.20074864  0.18099523\n",
      "  0.14794037  0.10225266  0.04525568 -0.00929336 -0.08109409 -0.15420389\n",
      " -0.20200888 -0.27202901 -0.33695388 -0.38967078 -0.4254703  -0.44053733\n",
      " -0.43283384 -0.40175101 -0.34796937 -0.27305095 -0.17894583 -0.06766852\n",
      "  0.05264748  0.19070078  0.33686261  0.47115414  0.61887755  0.75252526\n",
      "  0.8604839   0.93080056  0.95746499  0.94144209  0.89036706  0.81600452\n",
      "  0.73015123  0.6416791   0.55738905  0.47822694  0.40607225  0.33948423\n",
      "  0.27704514  0.21643875  0.15489317  0.08883818  0.01470794 -0.06205491\n",
      " -0.173182    0.03346078  0.03335895  0.02438117  0.00528881 -0.0138604 ],\n",
      "K = [[ 0.04053638 -0.74380821]]\n"
     ]
    }
   ],
   "source": [
    "# Plotting imports\n",
    "%matplotlib widget\n",
    "import matplotlib.pyplot as plt\n",
    "import matplotlib.animation as animation\n",
    "from matplotlib.patches import Wedge\n",
    "from immrax.utils import plot_interval_t\n",
    "\n",
    "# Use latex fonts\n",
    "plt.rcParams.update({\n",
    "    \"text.usetex\": True,\n",
    "    \"font.family\": \"Helvetica\",\n",
    "    \"font.size\": 14\n",
    "})\n",
    "\n",
    "uu = res.x\n",
    "print(f'u_ff = {split_u(uu)[0]},\\nK = {split_u(uu)[1]}')"
   ]
  },
  {
   "cell_type": "code",
   "execution_count": 14,
   "metadata": {},
   "outputs": [
    {
     "name": "stdout",
     "output_type": "stream",
     "text": [
      "Constraints satisfied to -0.00013960558029932346!\n"
     ]
    },
    {
     "data": {
      "image/png": "[encoded data removed]",
      "text/plain": [
       "<Figure size 800x400 with 2 Axes>"
      ]
     },
     "metadata": {},
     "output_type": "display_data"
    }
   ],
   "source": [
    "# Trajectory vs time\n",
    "\n",
    "unrolledout = rollout_ol_sys_undisturbed(uu)\n",
    "clrolledout = rollout_cl_embsys(uu)\n",
    "\n",
    "if jnp.all(con_ineq(uu) >= -1e-3) :\n",
    "    print(f'Constraints satisfied to {jnp.min(con_ineq(uu))}!')\n",
    "else :\n",
    "    print(f'Constraints not satisfied, worst is {jnp.min(con_ineq(uu))}!')\n",
    "    print(con_ineq(uu))\n",
    "\n",
    "fig1, axs = plt.subplots(1,2,dpi=100,figsize=[8,4])\n",
    "fig1.subplots_adjust(top=0.95, bottom=0.15, left=0.075, right=0.975)\n",
    "\n",
    "axs[0].set_xlabel('$t$'); axs[1].set_xlabel('$t$')\n",
    "axs[0].set_ylabel('$\\\\theta$', rotation=0, labelpad=5)\n",
    "axs[1].set_ylabel('$\\\\dot{\\\\theta}$', rotation=0, labelpad=5)\n",
    "axs[0].plot(tt, unrolledout[:,0], color='k')\n",
    "axs[1].plot(tt, unrolledout[:,1], color='k')\n",
    "plot_interval_t(axs[0], tt, xf[0]*jnp.ones(N), color='k')\n",
    "plot_interval_t(axs[1], tt, xf[1]*jnp.ones(N), color='k')\n",
    "plot_interval_t(axs[0], tt, irx.interval(clrolledout[:,0], clrolledout[:,2]), color='tab:blue')\n",
    "plot_interval_t(axs[1], tt, irx.interval(clrolledout[:,1], clrolledout[:,3]), color='tab:blue')\n",
    "fig1.savefig('figures/pendulum.pdf')\n",
    "\n",
    "plt.show()"
   ]
  },
  {
   "cell_type": "markdown",
   "metadata": {},
   "source": [
    "If the figure did not load, please see [pendulum.pdf](./figures/pendulum.pdf)."
   ]
  },
  {
   "cell_type": "code",
   "execution_count": 22,
   "metadata": {},
   "outputs": [
    {
     "data": {
      "text/html": [
       "<video controls  >\n",
       " <source src=\"data:video/mp4;base64,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\" type=\"video/mp4\">\n",
       " Your browser does not support the video tag.\n",
       " </video>"
      ],
      "text/plain": [
       "<IPython.core.display.Video object>"
      ]
     },
     "execution_count": 22,
     "metadata": {},
     "output_type": "execute_result"
    }
   ],
   "source": [
    "# Animation of pendulum\n",
    "\n",
    "th2deg = lambda th : (th * 180) / jnp.pi - 90\n",
    "anifig, anim = plt.subplots(1,1,dpi=100,figsize=[4,4])\n",
    "anifig.subplots_adjust()\n",
    "wedge = anim.add_patch(Wedge((0,0),sys.l,th2deg(clrolledout[0,0]),th2deg(clrolledout[0,2]), lw=2, ec='k'))\n",
    "anim.add_patch(Wedge((0,0), sys.l, th2deg(xfl[0]), th2deg(xfu[0]), color='k', alpha=0.25))\n",
    "anim.set_xlim(-sys.l*1.2, sys.l*1.2)\n",
    "anim.set_ylim(-sys.l*1.2, sys.l*1.2)\n",
    "def animate(t) :\n",
    "    wedge.set( theta1 = th2deg(clrolledout[t,0]), theta2 = th2deg(clrolledout[t,2]) )\n",
    "    anifig.suptitle(f'$t = {t*dt:.2f}$')\n",
    "    anifig.savefig(f'figures/frames/pendulum_{t:05d}.pdf')\n",
    "\n",
    "ani = animation.FuncAnimation(anifig, animate, frames=N, repeat=True, interval=dt*1000)\n",
    "\n",
    "FFwriter = animation.FFMpegWriter(fps=(1/dt))\n",
    "ani.save('figures/pendulum.mp4', writer=FFwriter)\n",
    "\n",
    "plt.close()\n",
    "\n",
    "from IPython.display import Video\n",
    "Video('figures/pendulum.mp4', embed=True)"
   ]
  },
  {
   "cell_type": "markdown",
   "metadata": {},
   "source": [
    "If the video did not render, please see [pendulum.mp4](./figures/pendulum.mp4)."
   ]
  }
 ],
 "metadata": {
  "kernelspec": {
   "display_name": "immrax",
   "language": "python",
   "name": "python3"
  },
  "language_info": {
   "codemirror_mode": {
    "name": "ipython",
    "version": 3
   },
   "file_extension": ".py",
   "mimetype": "text/x-python",
   "name": "python",
   "nbconvert_exporter": "python",
   "pygments_lexer": "ipython3",
   "version": "3.12.0"
  }
 },
 "nbformat": 4,
 "nbformat_minor": 2
}
