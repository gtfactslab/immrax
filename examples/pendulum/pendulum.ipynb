{
 "cells": [
  {
   "cell_type": "markdown",
   "metadata": {},
   "source": [
    "(Pendulum)=\n",
    "# Robust Optimal Control on a Pendulum Using Automatic Differentiation\n",
    "\n",
    "In this example, we use Automatic Differentiation to solve a robust optimal control problem in the embedding space of a nonlinear pendulum. In particular, we build an objective function with robust constraints, automatically create and compile functions evaluating their gradients, Jacobians, and Hessians, and finally setup an interior point minimization problem to find a locally optimal solution using IPOPT.\n",
    "\n",
    "This example is from the paper \"$\\texttt{immrax}$: A Parallalizable and Differentiable Toolbox for Interval Analysis and Mixed Monotone Reachability in JAX\"."
   ]
  },
  {
   "cell_type": "markdown",
   "metadata": {},
   "source": [
    "## Preliminaries\n",
    "\n",
    "To run this example, you'll need `cyipopt` and the MA57 linear solver from HSL. See the [Installation](Installation) page for more information on how to install these."
   ]
  },
  {
   "cell_type": "code",
   "execution_count": 1,
   "metadata": {},
   "outputs": [],
   "source": [
    "import jax\n",
    "import jax.numpy as jnp\n",
    "import immrax as irx\n",
    "from typing import Tuple"
   ]
  },
  {
   "cell_type": "markdown",
   "metadata": {},
   "source": [
    "We will be using IPOPT to solve a minimization problem. Since IPOPT is CPU-based and 64-bit, we configure JAX with these options as well. We can use the GPU here instead of the CPU for some operations, but empirically, the time to transfer data between the CPU and GPU is much larger than the amount of time the problem takes on the CPU only."
   ]
  },
  {
   "cell_type": "code",
   "execution_count": 2,
   "metadata": {},
   "outputs": [],
   "source": [
    "# Some configurations\n",
    "jax.config.update(\"jax_enable_x64\", True)\n",
    "\n",
    "# We wrap the jax.jit function to set the backend to cpu by default for convenience.\n",
    "device = \"cpu\"\n",
    "\n",
    "\n",
    "def jit(*args, **kwargs):\n",
    "    kwargs.setdefault(\"backend\", device)\n",
    "    return jax.jit(*args, **kwargs)"
   ]
  },
  {
   "cell_type": "markdown",
   "metadata": {},
   "source": [
    "### The pendulum's dynamics\n",
    "Consider the dynamics of a forced, damped pendulum\n",
    "\n",
    "$$\n",
    "ml^2\\ddot{\\theta} + b\\dot{\\theta} + mgl\\sin(\\theta) = \\tau\n",
    "$$\n",
    "\n",
    "with $m=0.15\\mathrm{kg}$, $l=0.5\\mathrm{m}$, $b=0.1\\mathrm{N\\cdot m \\cdot s}$, and $g=9.81\\mathrm{m}/\\mathrm{s}^2$.\n",
    "The torque $\\tau := (1 + w)u$, where $u\\in\\mathbb{R}$ is the desired torque input and $w\\in[\\underline{w},\\overline{w}] := [-0.02,0.02]$ is a bounded multiplicative disturbance on the control input. We implement this as a $2$-state system with $x := (\\theta, \\dot{\\theta})$,\n",
    "\n",
    "$$\n",
    "\\dot{x} = \n",
    "     f(x,u,w) = \n",
    "     \\left[\\begin{matrix} x_2 \\\\ \\frac{(1 + w)u - bx_2}{ml^2} - \\frac{g}{l}\\sin x_1 \\end{matrix}\\right]\n",
    "$$\n",
    "\n",
    "This is implemented in `immrax` as a `System`, with the specified dynamics written using `jax.numpy`."
   ]
  },
  {
   "cell_type": "code",
   "execution_count": 3,
   "metadata": {},
   "outputs": [],
   "source": [
    "g = 9.81\n",
    "\n",
    "\n",
    "class Pendulum(irx.System):\n",
    "    m: float\n",
    "    l: float\n",
    "    b: float\n",
    "\n",
    "    def __init__(self, m: float = 0.15, l: float = 0.5, b: float = 0.1) -> None:\n",
    "        # Tells immrax that the system is continuous\n",
    "        self.evolution = \"continuous\"\n",
    "        # Tells immrax the number of states\n",
    "        self.xlen = 2\n",
    "        self.m = m\n",
    "        self.l = l\n",
    "        self.b = b\n",
    "\n",
    "    def f(self, t: float, x: jax.Array, u: jax.Array, w: jax.Array) -> jax.Array:\n",
    "        return jnp.array(\n",
    "            [\n",
    "                x[1],\n",
    "                (((1 + w[0]) * u[0] - self.b * x[1]) / ((self.m) * self.l**2))\n",
    "                - (g / self.l) * jnp.sin(x[0]),\n",
    "            ]\n",
    "        )\n",
    "\n",
    "\n",
    "sys = Pendulum()"
   ]
  },
  {
   "cell_type": "markdown",
   "metadata": {},
   "source": [
    "### Problem Statement\n",
    "We seek to find a finite-time closed-loop optimal control policy $\\pi:[0,T]\\times\\mathbb{R}^n\\to\\mathbb{R}$ to swing up the pendulum to an *a priori* safe region at the top.\n",
    "We consider linear feedback control policies of the form $\\pi(t,x) := K(x(t) - x_{\\mathrm{nom}}(t)) + u_{\\mathrm{ff}}(t)$, where $K$ is a time invariant linear closed-loop stabilizing term to help counter the disturbance, $u_{\\mathrm{ff}}:[0,T]\\to\\mathbb{R}$ is a feedforward control policy, and $x_\\mathrm{nom}:[0,T]\\to\\mathbb{R}^n$ is the nominal trajectory of the deterministic system under the feedforward control law $u_\\mathrm{ff}$ with known disturbance mapping $w_{\\mathrm{nom}}:[0,T]\\to\\mathbb{R}$.\n",
    "The closed-loop system is thus\n",
    "\n",
    "$$ \n",
    "    \\dot{x} = f(x,\\pi(t,x),w) = f^\\pi (t, x, w).\n",
    "$$\n"
   ]
  },
  {
   "cell_type": "markdown",
   "metadata": {},
   "source": [
    "## Embedding System for the Pendulum\n",
    "Consider the following function\n",
    "\n",
    "$$\n",
    "\\begin{align*}\n",
    "[\\textsf{F}^\\pi(t,\\underline{x},\\overline{x},\\underline{w},\\overline{w})] := &\\, ([\\textsf{M}_x] + [\\textsf{M}_u]K)([\\underline{x},\\overline{x}] - x_\\mathrm{nom}(t)) \\\\\n",
    "    % &+ [\\textsf{M}_u^\\mathcal{O}]([\\ulu,\\olu] - \\mathring{u}) \n",
    "    & + [\\textsf{M}_w]([\\underline{w},\\overline{w}] - w_\\mathrm{nom}(t)) \\\\\n",
    "    & + f(x_\\mathrm{nom}(t),u_{\\mathrm{ff}}(t),w_\\mathrm{nom}(t)),\n",
    "\\end{align*}\n",
    "$$\n",
    "\n",
    "with $[\\textsf{M}_x\\ \\textsf{M}_u\\ \\textsf{M}_w] := [\\textsf{M}_\\sigma^{\\xi_\\mathrm{nom}(t)}(\\underline{x},\\overline{x},u_\\mathrm{ff}(t),u_\\mathrm{ff}(t),\\underline{w},\\overline{w})]$, where $\\textsf{M}$ is defined as Proposition~\\ref{prop:MixedJacobian-Based} afor the map $\\hat{f} : \\mathbb{R}^{n+p+q} \\to \\mathbb{R}^n$ such that $\\hat{f}((x,u,w)) := f(x,u,w)$, for some $(n+p+q)$-permutation $\\sigma$, and $\\xi_\\mathrm{nom}(t) := (x_\\mathrm{nom}(t),u_\\mathrm{ff}(t),w_\\mathrm{nom}(t))$.\n",
    "This is a valid inclusion function for the closed-loop dynamics $f^\\pi$~\\eqref{eq:pendulumcldyn} (proof deferred to Appendix~\\ref{apax:sec:proofclpend}, which uses Proposition~\\ref{prop:MixedJacobian-Based} Part~\\eqref{prop:MixedJacobian-Based:p1}).\n",
    "\n",
    "We use the `mjacM` transform to implement the inclusion function in in `immrax`. We expect the nominal values to be given as an input to the inclusion function, which will be calculated externally."
   ]
  },
  {
   "cell_type": "code",
   "execution_count": 4,
   "metadata": {},
   "outputs": [],
   "source": [
    "sys_mjacM = irx.mjacM(sys.f)\n",
    "# sys_mjacM = irx.jacM(sys.f)\n",
    "\n",
    "\n",
    "@jit\n",
    "def F(\n",
    "    t: irx.Interval,\n",
    "    x: irx.Interval,\n",
    "    w: irx.Interval,\n",
    "    *,\n",
    "    K: jnp.ndarray,\n",
    "    nominal: Tuple[jnp.ndarray, jnp.ndarray, jnp.ndarray, jnp.ndarray],\n",
    "):\n",
    "    tc, xc, uc, wc = nominal\n",
    "    Mt, Mx, Mu, Mw = sys_mjacM(t, x, irx.interval(uc), w, centers=(nominal,))[0]\n",
    "    # Mt, Mx, Mu, Mw = sys_mjacM(t, x, irx.interval(uc), w, centers=(nominal,))\n",
    "    return (\n",
    "        (Mx + Mu @ irx.interval(K)) @ (x - xc) + Mw @ (w - wc) + sys.f(tc, xc, uc, wc)\n",
    "    )"
   ]
  },
  {
   "cell_type": "markdown",
   "metadata": {},
   "source": [
    "Following the treatment from the paper, now that we have an inclusion function for the dynamics of the system, we will embed the closed-loop pendulum dynamics into a new $2n$-dimensional embedding system that provides efficient bounds for its reachable set.\n",
    "\n",
    "$$\n",
    "\\dot{\\underline{x}}_i = \\underline{\\textsf{E}}_i(t,\\underline{x},\\overline{x},\\underline{w},\\overline{w}) := \\underline{\\textsf{F}}_i^\\pi(t,\\underline{x},\\overline{x}_{i:\\underline{x}},\\underline{w},\\overline{x}), \\\\\n",
    "\\dot{\\overline{x}}_i = \\overline{\\textsf{E}}_i(t,\\underline{x},\\overline{x},\\underline{w},\\overline{w}) := \\overline{\\textsf{F}}_i^\\pi(t,\\underline{x}_{i:\\overline{x}},\\overline{x},\\underline{w},\\overline{x}),\n",
    "$$\n",
    "\n",
    "This embedding is automatically performed in `immrax` by the `ifemb` transform, which takes a `System` and an inclusion function for its dynamics, and returns the corresponding `EmbeddingSystem`."
   ]
  },
  {
   "cell_type": "code",
   "execution_count": 5,
   "metadata": {},
   "outputs": [],
   "source": [
    "embsys = irx.ifemb(sys, F)"
   ]
  },
  {
   "cell_type": "markdown",
   "metadata": {},
   "source": [
    "## Using Autodiff to Setup an IPOPT Minimization Problem\n",
    "\n",
    "### The problem itself\n",
    "Now that we have the embedding system `embsys`, we will try to solve an optimization problem of the following form:\n",
    "\n",
    "$$\n",
    "\\begin{aligned}\n",
    "    \\min_{u_\\mathrm{ff}, K} &\\sum_{i=1}^N |u_{\\mathrm{ff}}(t_i)|^2 + \\|K\\|_F^2 + \\sum_{i=1}^N \\|\\overline{x}(t_i) - \\underline{x}(t_i)\\|_2^2 \\\\\n",
    "    \\text{s.t.}& \\ \\  \\underline{x}_f \\leq \\underline{x}(t_j),\\ \\ \\overline{x}(t_j) \\leq \\overline{x}_f, \\ \\ j=N_e,\\dots,N, \\ \\\\ \n",
    "    & \\underline{x}(0) = \\overline{x}(0) = (0, 0), \\\\\n",
    "    & \\left[\\begin{matrix} \\underline{x}(t_{i+1}) \\\\ \\overline{x}(t_{i+1}) \\end{matrix}\\right] = \\left[\\begin{matrix} \\underline{x}(t_{i}) \\\\ \\overline{x}(t_{i}) \\end{matrix}\\right] + \\Delta t \\textsf{E}(t_i,\\underline{x}(t_i),\\overline{x}(t_i),\\underline{w},\\overline{w}), \n",
    "\\end{aligned}\n",
    "$$\n",
    "\n",
    "where the embedding dynamics $\\textsf{E}$ are discretized using Euler integration with step size $\\Delta t$.\n",
    "\n",
    "The first and second terms of the objective are typical quadratic conditioning of the decision variables. The third term is a regularization factor intended to help curb the expansion of the gap between the upper and lower bound, which emperically helps the optimization problem converge to a feasible solution.\n",
    "Finally, in the inequality constraints, we require that the pendulum reach a target set $[\\underline{x}_f,\\overline{x}_f]$ and stay within these constraints for $t\\in[t_{N_e},t_N]$."
   ]
  },
  {
   "cell_type": "markdown",
   "metadata": {},
   "source": [
    "### Towards an IPOPT implementation\n",
    "\n",
    "In the following code, we define variables setting up the minimization problem with the following definitions:\n",
    "\n",
    "$$\n",
    "t_0 = 0,\\quad t_{N_e} = 3,\\quad t_N = 3.25,\\quad \\Delta t = 0.05, \\\\\n",
    "[\\underline{x}_f,\\overline{x}_f] = \\left[\\begin{bmatrix} \\pi - \\frac{10\\pi}{360} \\\\ -0.1 \\end{bmatrix} , \\begin{bmatrix} \\pi + \\frac{10\\pi}{360} \\\\ +0.1 \\end{bmatrix}\\right]\n",
    "$$\n"
   ]
  },
  {
   "cell_type": "code",
   "execution_count": 6,
   "metadata": {},
   "outputs": [],
   "source": [
    "# Problem Parameters\n",
    "\n",
    "# Time horizon and discretization\n",
    "t0, te, tf, dt = 0, 3.0, 3.25, 0.05\n",
    "Ne = round((te - t0) / dt)\n",
    "N = round((tf - t0) / dt) + 1\n",
    "tt = jnp.arange(t0, tf + dt, dt)\n",
    "\n",
    "# Initial condition (no initial perturbation)\n",
    "x0 = irx.interval(jnp.array([0.0, 0.0]))\n",
    "x0ut = irx.i2ut(x0)\n",
    "x0cent, x0pert = irx.i2centpert(x0)\n",
    "\n",
    "# Final set constraint\n",
    "xf = irx.icentpert(jnp.array([jnp.pi, 0.0]), jnp.array([10.0 * (jnp.pi / 360), 0.1]))\n",
    "xfl, xfu = irx.i2lu(xf)\n",
    "xfut = irx.i2ut(xf)\n",
    "xfcent, xfpert = irx.i2centpert(xf)\n",
    "\n",
    "# Disturbance bounds [-0.02, 0.02]\n",
    "# w = irx.icentpert(0., 0.02)\n",
    "w = irx.icentpert(0.0, 0.01)"
   ]
  },
  {
   "cell_type": "markdown",
   "metadata": {},
   "source": [
    "We put all decision variables into one vector."
   ]
  },
  {
   "cell_type": "code",
   "execution_count": 7,
   "metadata": {},
   "outputs": [],
   "source": [
    "# Initial guess for control u_ff (zeros) and linear matrix K ([-1 -1])\n",
    "K = jnp.array([[-1.0, -1.0]])\n",
    "u0 = jnp.concatenate((jnp.zeros(N), K.reshape(-1)))\n",
    "\n",
    "\n",
    "# Function to split decision vector into u_ff and K\n",
    "def split_u(u: jax.Array) -> Tuple[jax.Array, jax.Array]:\n",
    "    return u[:-2], u[-2:].reshape(1, 2)"
   ]
  },
  {
   "cell_type": "markdown",
   "metadata": {},
   "source": [
    "Next, we implement a couple of helper functions. They use `jax.lax.scan` to perform a simple and efficient Euler integration of the dynamics to the specified time horizon. We could use the `System.compute_trajectory` function instead, which uses `diffrax` to integrate the dynamics with many different options of integrators."
   ]
  },
  {
   "cell_type": "code",
   "execution_count": 8,
   "metadata": {},
   "outputs": [],
   "source": [
    "# Function to rollout the undisturbed pendulum dynamics using Euler integration\n",
    "@jit\n",
    "def rollout_ol_sys_undisturbed(u: jax.Array) -> jax.Array:\n",
    "    u, K = split_u(u)\n",
    "\n",
    "    def f_euler(xt, ut):\n",
    "        xtp1 = xt + dt * sys.f(0.0, xt, jnp.array([ut]), jnp.array([0.0]))\n",
    "        return (xtp1, xtp1)\n",
    "\n",
    "    _, x = jax.lax.scan(f_euler, x0cent, u)\n",
    "    return x\n",
    "\n",
    "\n",
    "# Function to rollout the closed-loop embedding system dynamics using Euler integration\n",
    "@jit\n",
    "def rollout_cl_embsys(u: jax.Array) -> jax.Array:\n",
    "    u, K = split_u(u)\n",
    "\n",
    "    def f_euler(xt, ut):\n",
    "        xtut, xnomt = xt\n",
    "        xtutp1 = xtut + dt * embsys.E(\n",
    "            irx.interval([0.0]),\n",
    "            xtut,\n",
    "            w,\n",
    "            K=K,\n",
    "            nominal=(jnp.array([0.0]), xnomt, jnp.array([ut]), jnp.array([0.0])),\n",
    "        )\n",
    "        xnomtp1 = xnomt + dt * sys.f(0.0, xnomt, jnp.array([ut]), jnp.array([0.0]))\n",
    "        return ((xtutp1, xnomtp1), xtutp1)\n",
    "\n",
    "    _, x = jax.lax.scan(f_euler, (x0ut, x0cent), u)\n",
    "    return x"
   ]
  },
  {
   "cell_type": "markdown",
   "metadata": {},
   "source": [
    "Using the `rollout_cl_embsys` function, we implement the desired objective function above."
   ]
  },
  {
   "cell_type": "code",
   "execution_count": 9,
   "metadata": {},
   "outputs": [],
   "source": [
    "# Objective Function\n",
    "@jit\n",
    "def obj(u: jax.Array) -> jax.Array:\n",
    "    x = rollout_cl_embsys(u)\n",
    "    return jnp.sum(u**2) + jnp.sum((x[:, 2:] - x[:, :2]) ** 2)"
   ]
  },
  {
   "cell_type": "markdown",
   "metadata": {},
   "source": [
    "Next, we implement the inequality terminal set constraints as a function `con_ineq(u)` $\\geq 0$."
   ]
  },
  {
   "cell_type": "code",
   "execution_count": 10,
   "metadata": {},
   "outputs": [],
   "source": [
    "# Inequality constraints\n",
    "@jit\n",
    "def con_ineq(u):\n",
    "    x = rollout_cl_embsys(u)\n",
    "    return jnp.concatenate(\n",
    "        ((x[Ne:, :2] - xfl).reshape(-1), (xfu - x[Ne:, 2:]).reshape(-1))\n",
    "    )"
   ]
  },
  {
   "cell_type": "markdown",
   "metadata": {},
   "source": [
    "### The Automatic Differentiation Step\n",
    "\n",
    "Next, we use JAX's autodiff transforms to automatically create functions to compute the objective's gradient and Hessian, as well as the Jacobian and Hessian vector product of the constraints with respect to the Lagrange multipliers. We precompile (JIT compile) these functions to separate their compilation from the rest of the stack."
   ]
  },
  {
   "cell_type": "code",
   "execution_count": 11,
   "metadata": {},
   "outputs": [
    {
     "name": "stdout",
     "output_type": "stream",
     "text": [
      "JIT Compiling Autodiff Functions...\n",
      "Finished JIT for obj\n",
      "Finished JIT for obj_grad\n",
      "Finished JIT for obj_hess\n",
      "Finished JIT for con_ineq_jac\n",
      "Finished JIT for con_ineq_hessvp\n",
      "Finished JIT Compiling Autodiff Functions in 35.219850301742554 seconds\n"
     ]
    }
   ],
   "source": [
    "obj_grad = jit(jax.grad(obj))  # Objective Gradient\n",
    "obj_hess = jit(jax.jacfwd(jax.jacrev(obj)))  # Objective Hessian\n",
    "con_ineq_jac = jit(jax.jacfwd(con_ineq))  # Constraint Jacobian\n",
    "con_ineq_hess = jit(jax.jacfwd(jax.jacrev(con_ineq)))  # Constraint Hessian\n",
    "\n",
    "\n",
    "# Constraint Hessian-Vector Product\n",
    "@jit\n",
    "def con_ineq_hessvp(u, v):\n",
    "    def hessvp(u):\n",
    "        _, hvp = jax.vjp(con_ineq, u)\n",
    "        return hvp(v)[0]  # One tangent, one output. u^T dc_v\n",
    "\n",
    "    return jax.jacrev(hessvp)(u)\n",
    "\n",
    "\n",
    "print(\"JIT Compiling Autodiff Functions...\")\n",
    "from time import time\n",
    "\n",
    "time0 = time()\n",
    "obj(u0)\n",
    "print(\"Finished JIT for obj\")\n",
    "obj_grad(u0)\n",
    "print(\"Finished JIT for obj_grad\")\n",
    "obj_hess(u0)\n",
    "print(\"Finished JIT for obj_hess\")\n",
    "con_ineq_jac(u0)\n",
    "print(\"Finished JIT for con_ineq_jac\")\n",
    "con_ineq_hessvp(u0, jnp.ones(4 * (N - Ne)))\n",
    "print(\"Finished JIT for con_ineq_hessvp\")\n",
    "timef = time()\n",
    "print(f\"Finished JIT Compiling Autodiff Functions in {timef - time0} seconds\")"
   ]
  },
  {
   "cell_type": "markdown",
   "metadata": {},
   "source": [
    "## Minimization in IPOPT\n",
    "\n",
    "Finally, we solve the optimization problem from above using a call to IPOPT."
   ]
  },
  {
   "cell_type": "code",
   "execution_count": 12,
   "metadata": {},
   "outputs": [
    {
     "name": "stdout",
     "output_type": "stream",
     "text": [
      "\n",
      "******************************************************************************\n",
      "This program contains Ipopt, a library for large-scale nonlinear optimization.\n",
      " Ipopt is released as open source code under the Eclipse Public License (EPL).\n",
      "         For more information visit https://github.com/coin-or/Ipopt\n",
      "******************************************************************************\n",
      "\n",
      "Total number of variables............................:       68\n",
      "                     variables with only lower bounds:        0\n",
      "                variables with lower and upper bounds:        0\n",
      "                     variables with only upper bounds:        0\n",
      "Total number of equality constraints.................:        0\n",
      "Total number of inequality constraints...............:       24\n",
      "        inequality constraints with only lower bounds:       24\n",
      "   inequality constraints with lower and upper bounds:        0\n",
      "        inequality constraints with only upper bounds:        0\n",
      "\n",
      "Reallocating memory for MA57: lfact (22061)\n",
      "Reallocating memory for MA57: lfact (24303)\n",
      "\n",
      "Number of Iterations....: 100\n",
      "\n",
      "                                   (scaled)                 (unscaled)\n",
      "Objective...............:   1.0210781839478321e+01    1.0210781839478321e+01\n",
      "Dual infeasibility......:   1.4144511782662028e-01    1.4144511782662028e-01\n",
      "Constraint violation....:   1.0006529303496162e-03    1.0006529303496162e-03\n",
      "Variable bound violation:   0.0000000000000000e+00    0.0000000000000000e+00\n",
      "Complementarity.........:   1.2181650600986621e-10    1.2181650600986621e-10\n",
      "Overall NLP error.......:   1.4144511782662028e-01    1.4144511782662028e-01\n",
      "\n",
      "\n",
      "Number of objective function evaluations             = 312\n",
      "Number of objective gradient evaluations             = 101\n",
      "Number of equality constraint evaluations            = 0\n",
      "Number of inequality constraint evaluations          = 315\n",
      "Number of equality constraint Jacobian evaluations   = 0\n",
      "Number of inequality constraint Jacobian evaluations = 101\n",
      "Number of Lagrangian Hessian evaluations             = 100\n",
      "Total seconds in IPOPT                               = 6.251\n",
      "\n",
      "EXIT: Maximum Number of Iterations Exceeded.\n"
     ]
    }
   ],
   "source": [
    "from cyipopt import minimize_ipopt\n",
    "\n",
    "# Constraints\n",
    "cons = [\n",
    "    {\"type\": \"ineq\", \"fun\": con_ineq, \"jac\": con_ineq_jac, \"hess\": con_ineq_hessvp},\n",
    "]\n",
    "bnds = [(-100.0, 100.0) for _ in range(u0.size)]\n",
    "\n",
    "ipopt_opts = {\n",
    "    b\"disp\": 4,\n",
    "    b\"linear_solver\": \"ma57\",\n",
    "    b\"hsllib\": \"libcoinhsl.so\",\n",
    "    b\"tol\": 1e-3,\n",
    "    b\"max_iter\": 100,\n",
    "}\n",
    "\n",
    "# Solve the optimization problem\n",
    "res = minimize_ipopt(\n",
    "    obj, jac=obj_grad, hess=obj_hess, x0=u0, constraints=cons, options=ipopt_opts\n",
    ")"
   ]
  },
  {
   "cell_type": "markdown",
   "metadata": {},
   "source": [
    "## Visualizing the Results"
   ]
  },
  {
   "cell_type": "code",
   "execution_count": 13,
   "metadata": {},
   "outputs": [
    {
     "name": "stdout",
     "output_type": "stream",
     "text": [
      "u_ff = [-5.92930569e-02 -4.26039538e-02 -1.92477872e-02 -6.60294115e-04\n",
      " -2.62717792e-02  4.76887169e-03  4.71440153e-02  8.86849578e-02\n",
      "  1.27199566e-01  1.60448415e-01  1.86262309e-01  2.02671775e-01\n",
      "  2.08041820e-01  2.01199027e-01  1.81534389e-01  1.49067206e-01\n",
      "  1.04464849e-01  4.90271379e-02  1.95869045e-02 -4.81270685e-02\n",
      " -1.24186376e-01 -2.00041944e-01 -2.71669574e-01 -3.34729699e-01\n",
      " -3.84856068e-01 -4.18072137e-01 -4.31251843e-01 -4.22492002e-01\n",
      " -3.91242912e-01 -3.38142072e-01 -2.64622858e-01 -1.72477162e-01\n",
      " -6.35724998e-02  3.99106442e-02  1.76629662e-01  3.22030859e-01\n",
      "  4.70516187e-01  6.13920428e-01  7.41725346e-01  8.42580432e-01\n",
      "  9.07104806e-01  9.30912942e-01  9.16182929e-01  8.70652197e-01\n",
      "  8.04747759e-01  7.28649752e-01  6.48848759e-01  5.70874319e-01\n",
      "  4.97880923e-01  4.31274170e-01  3.71387162e-01  3.17903781e-01\n",
      "  2.70122825e-01  2.27102239e-01  1.87716840e-01  1.50651929e-01\n",
      "  1.14343585e-01  7.68661758e-02  3.57578338e-02 -4.95050542e-03\n",
      " -6.37781565e-02  4.08752042e-02  3.16317654e-02  2.17814256e-02\n",
      "  1.08588158e-02  2.02389220e-03],\n",
      "K = [[-0.0305142  -0.59889171]]\n"
     ]
    }
   ],
   "source": [
    "# Plotting imports\n",
    "%matplotlib widget\n",
    "import matplotlib.pyplot as plt\n",
    "import matplotlib.animation as animation\n",
    "from matplotlib.patches import Wedge\n",
    "from immrax.utils import plot_interval_t\n",
    "\n",
    "# Use latex fonts\n",
    "plt.rcParams.update({\"text.usetex\": True, \"font.family\": \"Helvetica\", \"font.size\": 14})\n",
    "\n",
    "uu = res.x\n",
    "print(f\"u_ff = {split_u(uu)[0]},\\nK = {split_u(uu)[1]}\")"
   ]
  },
  {
   "cell_type": "code",
   "execution_count": 14,
   "metadata": {},
   "outputs": [
    {
     "name": "stdout",
     "output_type": "stream",
     "text": [
      "Constraints not satisfied, worst is -0.0010006629303496162!\n",
      "[-0.00043718  0.13235455  0.00118055  0.12481568  0.00242133  0.1088238\n",
      "  0.00286252  0.08451305  0.00208817  0.05085413 -0.00036912  0.01071328\n",
      "  0.10517735 -0.00100066  0.10012731  0.00380032  0.09531733  0.01661963\n",
      "  0.09114831  0.03761718  0.08802917  0.06783443  0.08642089  0.10431467]\n"
     ]
    },
    {
     "data": {
      "application/vnd.jupyter.widget-view+json": {
       "model_id": "5164340817a04d458f8ed8fdbccee0ff",
       "version_major": 2,
       "version_minor": 0
      },
      "image/png": "[encoded data removed]",
      "text/html": [
       "\n",
       "            <div style=\"display: inline-block;\">\n",
       "                <div class=\"jupyter-widgets widget-label\" style=\"text-align: center;\">\n",
       "                    Figure\n",
       "                </div>\n",
       "                <img src='data:image/png;base64,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' width=800.0/>\n",
       "            </div>\n",
       "        "
      ],
      "text/plain": [
       "Canvas(toolbar=Toolbar(toolitems=[('Home', 'Reset original view', 'home', 'home'), ('Back', 'Back to previous …"
      ]
     },
     "metadata": {},
     "output_type": "display_data"
    }
   ],
   "source": [
    "# Trajectory vs time\n",
    "\n",
    "unrolledout = rollout_ol_sys_undisturbed(uu)\n",
    "clrolledout = rollout_cl_embsys(uu)\n",
    "\n",
    "if jnp.all(con_ineq(uu) >= -1e-3):\n",
    "    print(f\"Constraints satisfied to {jnp.min(con_ineq(uu))}!\")\n",
    "else:\n",
    "    print(f\"Constraints not satisfied, worst is {jnp.min(con_ineq(uu))}!\")\n",
    "    print(con_ineq(uu))\n",
    "\n",
    "fig1, axs = plt.subplots(1, 2, dpi=100, figsize=[8, 4])\n",
    "fig1.subplots_adjust(top=0.95, bottom=0.15, left=0.075, right=0.975)\n",
    "\n",
    "axs[0].set_xlabel(\"$t$\")\n",
    "axs[1].set_xlabel(\"$t$\")\n",
    "axs[0].set_ylabel(\"$\\\\theta$\", rotation=0, labelpad=5)\n",
    "axs[1].set_ylabel(\"$\\\\dot{\\\\theta}$\", rotation=0, labelpad=5)\n",
    "axs[0].plot(tt, unrolledout[:, 0], color=\"k\")\n",
    "axs[1].plot(tt, unrolledout[:, 1], color=\"k\")\n",
    "plot_interval_t(axs[0], tt, xf[0] * jnp.ones(N), color=\"k\")\n",
    "plot_interval_t(axs[1], tt, xf[1] * jnp.ones(N), color=\"k\")\n",
    "plot_interval_t(\n",
    "    axs[0], tt, irx.interval(clrolledout[:, 0], clrolledout[:, 2]), color=\"tab:blue\"\n",
    ")\n",
    "plot_interval_t(\n",
    "    axs[1], tt, irx.interval(clrolledout[:, 1], clrolledout[:, 3]), color=\"tab:blue\"\n",
    ")\n",
    "fig1.savefig(\"figures/pendulum.pdf\")\n",
    "\n",
    "plt.show()"
   ]
  },
  {
   "cell_type": "markdown",
   "metadata": {},
   "source": [
    "If the figure did not load, please see [pendulum.pdf](./figures/pendulum.pdf)."
   ]
  },
  {
   "cell_type": "code",
   "execution_count": 15,
   "metadata": {},
   "outputs": [
    {
     "data": {
      "text/html": [
       "<video controls  >\n",
       " <source src=\"data:video/mp4;base64,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\" type=\"video/mp4\">\n",
       " Your browser does not support the video tag.\n",
       " </video>"
      ],
      "text/plain": [
       "<IPython.core.display.Video object>"
      ]
     },
     "execution_count": 15,
     "metadata": {},
     "output_type": "execute_result"
    }
   ],
   "source": [
    "# Animation of pendulum\n",
    "\n",
    "th2deg = lambda th: (th * 180) / jnp.pi - 90\n",
    "anifig, anim = plt.subplots(1, 1, dpi=100, figsize=[4, 4])\n",
    "anifig.subplots_adjust()\n",
    "wedge = anim.add_patch(\n",
    "    Wedge(\n",
    "        (0, 0),\n",
    "        sys.l,\n",
    "        th2deg(clrolledout[0, 0]),\n",
    "        th2deg(clrolledout[0, 2]),\n",
    "        lw=2,\n",
    "        ec=\"k\",\n",
    "    )\n",
    ")\n",
    "anim.add_patch(\n",
    "    Wedge((0, 0), sys.l, th2deg(xfl[0]), th2deg(xfu[0]), color=\"k\", alpha=0.25)\n",
    ")\n",
    "anim.set_xlim(-sys.l * 1.2, sys.l * 1.2)\n",
    "anim.set_ylim(-sys.l * 1.2, sys.l * 1.2)\n",
    "\n",
    "\n",
    "def animate(t):\n",
    "    wedge.set(theta1=th2deg(clrolledout[t, 0]), theta2=th2deg(clrolledout[t, 2]))\n",
    "    anifig.suptitle(f\"$t = {t * dt:.2f}$\")\n",
    "    anifig.savefig(f\"figures/frames/pendulum_{t:05d}.pdf\")\n",
    "\n",
    "\n",
    "ani = animation.FuncAnimation(\n",
    "    anifig, animate, frames=N, repeat=True, interval=dt * 1000\n",
    ")\n",
    "\n",
    "FFwriter = animation.FFMpegWriter(fps=(1 / dt))\n",
    "ani.save(\"figures/pendulum.mp4\", writer=FFwriter)\n",
    "\n",
    "plt.close()\n",
    "\n",
    "from IPython.display import Video\n",
    "\n",
    "Video(\"figures/pendulum.mp4\", embed=True)"
   ]
  },
  {
   "cell_type": "markdown",
   "metadata": {},
   "source": [
    "If the video did not render, please see [pendulum.mp4](./figures/pendulum.mp4)."
   ]
  }
 ],
 "metadata": {
  "kernelspec": {
   "display_name": "immrax",
   "language": "python",
   "name": "python3"
  },
  "language_info": {
   "codemirror_mode": {
    "name": "ipython",
    "version": 3
   },
   "file_extension": ".py",
   "mimetype": "text/x-python",
   "name": "python",
   "nbconvert_exporter": "python",
   "pygments_lexer": "ipython3",
   "version": "3.11.8"
  }
 },
 "nbformat": 4,
 "nbformat_minor": 2
}
